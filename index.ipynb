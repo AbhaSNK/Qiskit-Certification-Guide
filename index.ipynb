{
 "cells": [
  {
   "cell_type": "markdown",
   "id": "493c2c74",
   "metadata": {},
   "source": [
    "# Qiskit Certification Preparation:\n",
    "    \n",
    "    \n",
    "## To prepare for the exam I have refer to  the objectives mentioned in the following \n",
    "    \n",
    "  #  https://www.ibm.com/training/certification/C0010300\n",
    "  \n",
    "  \n",
    "  I have prepared for each section by few executing the examples to understand the conecpt better"
   ]
  },
  {
   "cell_type": "markdown",
   "id": "30825427",
   "metadata": {},
   "source": [
    "# SECTION 1: Perform Operations on Quantum Circuits"
   ]
  },
  {
   "cell_type": "markdown",
   "id": "9aa07fd5",
   "metadata": {},
   "source": [
    "1. <a href= \".\\section_notebooks\\Section_1\\Multi_qubit_QReg_examples.ipynb\"> Construct multi-qubit quantum registers</a>\n",
    "\n",
    "2. <a href= \".\\section_notebooks\\Section_1\\Measure_examples.ipynb\"> Measure quantum circuits in classical registers</a>\n",
    "\n",
    "3. <a href= \".\\section_notebooks\\Section_1\\Single_Qubit Gates.ipynb\"> Use single-qubit gates</a>\n",
    "\n",
    "4. <a href= \".\\section_notebooks\\Section_1\\Multi_Qubits.ipynb\">Use multi-qubit gates</a>\n",
    "\n",
    "5. <a href= \".\\section_notebooks\\Section_1\\Barrier_operations.ipynb\">Use barrier operations</a>\n",
    "\n",
    "6. <a href= \".\\section_notebooks\\Section_1\\QC_properties.ipynb\">Return the circuit depth</a>\n",
    "\n",
    "7. <a href= \".\\section_notebooks\\Section_1\\QC_extension.ipynb\">Extend quantum circuits</a>\n",
    "\n",
    "8. <a href= \".\\section_notebooks\\Section_1\\Open_qasm_examples.ipynb\">Return the OpenQASM string for a circuit</a>"
   ]
  },
  {
   "cell_type": "markdown",
   "id": "70ff5d65",
   "metadata": {},
   "source": [
    "# SECTION 2: Executing Experiments\n",
    "\n",
    "- <a href=\".\\section_notebooks\\Section_2\\Execute_QC.ipynb\">Execute a quantum circuit</a>\n"
   ]
  },
  {
   "cell_type": "markdown",
   "id": "c3e00bf3",
   "metadata": {},
   "source": [
    "# Section 3: Implement BasicAer: Python-based Simulators\n",
    "\n",
    "- <a href=\".\\section_notebooks\\Section_3\\Qiskit_Simulators.ipynb\">Use the available simulators</a>\n"
   ]
  },
  {
   "cell_type": "markdown",
   "id": "9646ed1c",
   "metadata": {},
   "source": [
    "# Section 4: Implement Qasm\n",
    "\n",
    "<a href= \".\\section_notebooks\\Section_1\\Open_qasm_examples.ipynb\">Read a QASM file and string</a>\n"
   ]
  },
  {
   "cell_type": "markdown",
   "id": "66dc23c1",
   "metadata": {},
   "source": [
    "# Section 5: Compare and Contrast Quantum Information\n",
    "\n",
    "1. <a href=\".\\section_notebooks\\Section_5\\CReg_QReg.ipynb\">Use classical and quantum registers</a>\n",
    "2. <a href=\".\\section_notebooks\\Section_5\\Quantum_info.ipynb\">Use operators</a>\n",
    "3. <a href=\".\\section_notebooks\\Section_5\\Quantum_info.ipynb\">Measure fidelity</a>\n",
    "\n"
   ]
  },
  {
   "cell_type": "markdown",
   "id": "179e3ea4",
   "metadata": {},
   "source": [
    "# Section 6: Return the Experiment Results\n",
    "\n",
    "1. <a href=\".\\section_notebooks\\Section_6\\Histogram_Data.ipynb\">Return and understand the histogram data of an experiment</a>\n",
    "2. <a href=\".\\section_notebooks\\Section_6\\StateVector.ipynb\">Return and understand the statevector of an experiment</a>\n",
    "3. <a href=\".\\section_notebooks\\Section_6\\Unitary_simulator.ipynb\">Return and understand the unitary of an experiment\n",
    "\n"
   ]
  },
  {
   "cell_type": "markdown",
   "id": "8a87681f",
   "metadata": {},
   "source": [
    "# Section 7: Use Qiskit Tools\n",
    "\n",
    "<a href= \".\\section_notebooks\\Section_7\\Qiskit_tools.ipynb\">Monitor the status of a job instance</a> \n",
    "\n"
   ]
  },
  {
   "cell_type": "markdown",
   "id": "6c34ec36",
   "metadata": {},
   "source": [
    "# Section 8: <a href=\".\\section_notebooks\\Section_8\\System_info.ipynb\">Display and Use System Information</a>\n",
    "\n",
    "\n",
    "\n",
    "1. Perform operations around the Qiskit version\n",
    "2. Use information gained from %quiskit_backend_overview\n",
    "\n"
   ]
  },
  {
   "cell_type": "markdown",
   "id": "135aaef7",
   "metadata": {},
   "source": [
    "# <a href=\".\\section_notebooks\\Section_9\\Visualisation.ipynb\">Section 9: Construct Visualizations </a>\n",
    "\n",
    "\n",
    "    \n",
    "1. Draw a circuit\n",
    "2. Plot a histogram of data\n",
    "3. Plot a Bloch multivector\n",
    "4. Plot a Bloch vector\n",
    "5. Plot a QSphere\n",
    "6. Plot a density matrix\n",
    "7. Plot a gate map with error rates\n",
    "\n",
    "\n"
   ]
  },
  {
   "cell_type": "markdown",
   "id": "6d7b528e",
   "metadata": {},
   "source": [
    "# Section 10: Access Aer Provider\n",
    "\n",
    "<a href=\".\\section_notebooks\\Section_10\\Access_Aer_Provider.ipynb\">\n",
    "    \n",
    " 1. Access a statevector_simulator backend\n",
    "    \n",
    " 2. Access a qasm_simulator backend\n",
    "    \n",
    " 3. Access a unitary_simulator backend\n",
    "</a>"
   ]
  },
  {
   "cell_type": "code",
   "execution_count": null,
   "id": "0bcee93b",
   "metadata": {},
   "outputs": [],
   "source": []
  }
 ],
 "metadata": {
  "kernelspec": {
   "display_name": "Python 3",
   "language": "python",
   "name": "python3"
  },
  "language_info": {
   "codemirror_mode": {
    "name": "ipython",
    "version": 3
   },
   "file_extension": ".py",
   "mimetype": "text/x-python",
   "name": "python",
   "nbconvert_exporter": "python",
   "pygments_lexer": "ipython3",
   "version": "3.7.9"
  }
 },
 "nbformat": 4,
 "nbformat_minor": 5
}
